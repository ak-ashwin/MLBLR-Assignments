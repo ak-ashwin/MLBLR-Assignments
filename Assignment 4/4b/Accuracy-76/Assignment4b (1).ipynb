{
  "nbformat": 4,
  "nbformat_minor": 0,
  "metadata": {
    "colab": {
      "name": "Assignment4b.ipynb",
      "version": "0.3.2",
      "views": {},
      "default_view": {},
      "provenance": [
        {
          "file_id": "1_1kwmwgL7g94jI6BEtcgm-D2_AFk0zxK",
          "timestamp": 1519101209834
        }
      ]
    },
    "kernelspec": {
      "display_name": "Python 3",
      "language": "python",
      "name": "python3"
    },
    "accelerator": "GPU"
  },
  "cells": [
    {
      "metadata": {
        "id": "K70hAckqg0EA",
        "colab_type": "code",
        "colab": {
          "autoexec": {
            "startup": false,
            "wait_interval": 0
          }
        }
      },
      "cell_type": "code",
      "source": [
        "# https://keras.io/\n",
        "!pip install -q keras\n",
        "import keras"
      ],
      "execution_count": 0,
      "outputs": []
    },
    {
      "metadata": {
        "id": "wVIx_KIigxPV",
        "colab_type": "code",
        "colab": {
          "autoexec": {
            "startup": false,
            "wait_interval": 0
          }
        }
      },
      "cell_type": "code",
      "source": [
        "import keras\n",
        "from keras.datasets import cifar10\n",
        "from keras.models import Model, Sequential\n",
        "from keras.layers import Dense, Dropout, Flatten, Input, AveragePooling2D, merge, Activation\n",
        "from keras.layers import Conv2D, MaxPooling2D, BatchNormalization\n",
        "from keras.layers import Concatenate\n",
        "from keras.optimizers import Adam\n",
        "from keras.callbacks import ModelCheckpoint"
      ],
      "execution_count": 0,
      "outputs": []
    },
    {
      "metadata": {
        "id": "UNHw6luQg3gc",
        "colab_type": "code",
        "colab": {
          "autoexec": {
            "startup": false,
            "wait_interval": 0
          }
        }
      },
      "cell_type": "code",
      "source": [
        "# this part will prevent tensorflow to allocate all the avaliable GPU Memory\n",
        "# backend\n",
        "import tensorflow as tf\n",
        "from keras import backend as k\n",
        "\n",
        "# Don't pre-allocate memory; allocate as-needed\n",
        "config = tf.ConfigProto()\n",
        "config.gpu_options.allow_growth = True\n",
        "\n",
        "# Create a session with the above options specified.\n",
        "k.tensorflow_backend.set_session(tf.Session(config=config))"
      ],
      "execution_count": 0,
      "outputs": []
    },
    {
      "metadata": {
        "id": "dsO_yGxcg5D8",
        "colab_type": "code",
        "colab": {
          "autoexec": {
            "startup": false,
            "wait_interval": 0
          }
        }
      },
      "cell_type": "code",
      "source": [
        "# Hyperparameters\n",
        "batch_size = 128\n",
        "num_classes = 10\n",
        "epochs = 50\n",
        "l = 40\n",
        "num_filter = 32\n",
        "compression = 0.5\n",
        "dropout_rate = 0.25"
      ],
      "execution_count": 0,
      "outputs": []
    },
    {
      "metadata": {
        "id": "mB7o3zu1g6eT",
        "colab_type": "code",
        "colab": {
          "autoexec": {
            "startup": false,
            "wait_interval": 0
          }
        }
      },
      "cell_type": "code",
      "source": [
        "# Load CIFAR10 Data\n",
        "(x_train, y_train), (x_test, y_test) = cifar10.load_data()\n",
        "img_height, img_width, channel = x_train.shape[1],x_train.shape[2],x_train.shape[3]\n",
        "\n",
        "# convert to one hot encoing \n",
        "y_train = keras.utils.to_categorical(y_train, num_classes)\n",
        "y_test = keras.utils.to_categorical(y_test, num_classes)"
      ],
      "execution_count": 0,
      "outputs": []
    },
    {
      "metadata": {
        "id": "ee-sge5Kg7vr",
        "colab_type": "code",
        "colab": {
          "autoexec": {
            "startup": false,
            "wait_interval": 0
          }
        }
      },
      "cell_type": "code",
      "source": [
        "# Dense Block\n",
        "def add_denseblock(input, num_filter = 12, dropout_rate = 0.2):\n",
        "    global compression\n",
        "    temp = input\n",
        "    for _ in range(l):\n",
        "        BatchNorm = BatchNormalization()(temp)\n",
        "        relu = Activation('relu')(BatchNorm)\n",
        "        Conv2D_3_3 = Conv2D(int(num_filter*compression), (3,3), use_bias=False ,padding='same')(relu)\n",
        "        if dropout_rate>0:\n",
        "          Conv2D_3_3 = Dropout(dropout_rate)(Conv2D_3_3)\n",
        "        concat = Concatenate(axis=-1)([temp,Conv2D_3_3])\n",
        "        \n",
        "        temp = concat\n",
        "        \n",
        "    return temp"
      ],
      "execution_count": 0,
      "outputs": []
    },
    {
      "metadata": {
        "id": "OOP6IPsGhBwb",
        "colab_type": "code",
        "colab": {
          "autoexec": {
            "startup": false,
            "wait_interval": 0
          }
        }
      },
      "cell_type": "code",
      "source": [
        "def add_transition(input, num_filter = 12, dropout_rate = 0.2):\n",
        "    global compression\n",
        "    BatchNorm = BatchNormalization()(input)\n",
        "    relu = Activation('relu')(BatchNorm)\n",
        "    Conv2D_BottleNeck = Conv2D(int(num_filter*compression), (1,1), use_bias=False ,padding='same')(relu)\n",
        "    if dropout_rate>0:\n",
        "      Conv2D_BottleNeck = Dropout(dropout_rate)(Conv2D_BottleNeck)\n",
        "    avg = AveragePooling2D(pool_size=(2,2))(Conv2D_BottleNeck)\n",
        "    \n",
        "    return avg"
      ],
      "execution_count": 0,
      "outputs": []
    },
    {
      "metadata": {
        "id": "0RaKFpubhDIC",
        "colab_type": "code",
        "colab": {
          "autoexec": {
            "startup": false,
            "wait_interval": 0
          }
        }
      },
      "cell_type": "code",
      "source": [
        "def output_layer(input):\n",
        "    global compression\n",
        "    BatchNorm = BatchNormalization()(input)\n",
        "    relu = Activation('relu')(BatchNorm)\n",
        "    AvgPooling = AveragePooling2D(pool_size=(2,2))(relu)\n",
        "    flat = Flatten()(AvgPooling)\n",
        "    output = Dense(num_classes, activation='softmax')(flat)\n",
        "    \n",
        "    return output"
      ],
      "execution_count": 0,
      "outputs": []
    },
    {
      "metadata": {
        "id": "anPCpQWhhGb7",
        "colab_type": "code",
        "colab": {
          "autoexec": {
            "startup": false,
            "wait_interval": 0
          }
        }
      },
      "cell_type": "code",
      "source": [
        "num_filter = 32\n",
        "dropout_rate = 0.5\n",
        "l = 12\n",
        "input = Input(shape=(img_height, img_width, channel,))\n",
        "First_Conv2D = Conv2D(num_filter, (3,3), use_bias=False ,padding='same')(input)\n",
        "\n",
        "First_Block = add_denseblock(First_Conv2D, num_filter, dropout_rate)\n",
        "First_Transition = add_transition(First_Block, num_filter, dropout_rate)\n",
        "\n",
        "Second_Block = add_denseblock(First_Transition, num_filter, dropout_rate)\n",
        "Second_Transition = add_transition(Second_Block, num_filter, dropout_rate)\n",
        "\n",
        "Third_Block = add_denseblock(Second_Transition, num_filter, dropout_rate)\n",
        "Third_Transition = add_transition(Third_Block, num_filter, dropout_rate)\n",
        "\n",
        "Last_Block = add_denseblock(Third_Transition,  num_filter, dropout_rate)\n",
        "output = output_layer(Last_Block)\n"
      ],
      "execution_count": 0,
      "outputs": []
    },
    {
      "metadata": {
        "id": "1kFh7pdxhNtT",
        "colab_type": "code",
        "colab": {
          "autoexec": {
            "startup": false,
            "wait_interval": 0
          },
          "base_uri": "https://localhost:8080/",
          "height": 10439
        },
        "outputId": "b62d4777-817b-4949-d20f-2debdc6cd65f",
        "executionInfo": {
          "status": "ok",
          "timestamp": 1526405691634,
          "user_tz": -330,
          "elapsed": 1957,
          "user": {
            "displayName": "Ddev Ddev",
            "photoUrl": "https://lh3.googleusercontent.com/a/default-user=s128",
            "userId": "114475786811527419051"
          }
        }
      },
      "cell_type": "code",
      "source": [
        "model = Model(inputs=[input], outputs=[output])\n",
        "model.summary()"
      ],
      "execution_count": 21,
      "outputs": [
        {
          "output_type": "stream",
          "text": [
            "__________________________________________________________________________________________________\n",
            "Layer (type)                    Output Shape         Param #     Connected to                     \n",
            "==================================================================================================\n",
            "input_2 (InputLayer)            (None, 32, 32, 3)    0                                            \n",
            "__________________________________________________________________________________________________\n",
            "conv2d_53 (Conv2D)              (None, 32, 32, 32)   864         input_2[0][0]                    \n",
            "__________________________________________________________________________________________________\n",
            "batch_normalization_53 (BatchNo (None, 32, 32, 32)   128         conv2d_53[0][0]                  \n",
            "__________________________________________________________________________________________________\n",
            "activation_53 (Activation)      (None, 32, 32, 32)   0           batch_normalization_53[0][0]     \n",
            "__________________________________________________________________________________________________\n",
            "conv2d_54 (Conv2D)              (None, 32, 32, 16)   4608        activation_53[0][0]              \n",
            "__________________________________________________________________________________________________\n",
            "dropout_52 (Dropout)            (None, 32, 32, 16)   0           conv2d_54[0][0]                  \n",
            "__________________________________________________________________________________________________\n",
            "concatenate_49 (Concatenate)    (None, 32, 32, 48)   0           conv2d_53[0][0]                  \n",
            "                                                                 dropout_52[0][0]                 \n",
            "__________________________________________________________________________________________________\n",
            "batch_normalization_54 (BatchNo (None, 32, 32, 48)   192         concatenate_49[0][0]             \n",
            "__________________________________________________________________________________________________\n",
            "activation_54 (Activation)      (None, 32, 32, 48)   0           batch_normalization_54[0][0]     \n",
            "__________________________________________________________________________________________________\n",
            "conv2d_55 (Conv2D)              (None, 32, 32, 16)   6912        activation_54[0][0]              \n",
            "__________________________________________________________________________________________________\n",
            "dropout_53 (Dropout)            (None, 32, 32, 16)   0           conv2d_55[0][0]                  \n",
            "__________________________________________________________________________________________________\n",
            "concatenate_50 (Concatenate)    (None, 32, 32, 64)   0           concatenate_49[0][0]             \n",
            "                                                                 dropout_53[0][0]                 \n",
            "__________________________________________________________________________________________________\n",
            "batch_normalization_55 (BatchNo (None, 32, 32, 64)   256         concatenate_50[0][0]             \n",
            "__________________________________________________________________________________________________\n",
            "activation_55 (Activation)      (None, 32, 32, 64)   0           batch_normalization_55[0][0]     \n",
            "__________________________________________________________________________________________________\n",
            "conv2d_56 (Conv2D)              (None, 32, 32, 16)   9216        activation_55[0][0]              \n",
            "__________________________________________________________________________________________________\n",
            "dropout_54 (Dropout)            (None, 32, 32, 16)   0           conv2d_56[0][0]                  \n",
            "__________________________________________________________________________________________________\n",
            "concatenate_51 (Concatenate)    (None, 32, 32, 80)   0           concatenate_50[0][0]             \n",
            "                                                                 dropout_54[0][0]                 \n",
            "__________________________________________________________________________________________________\n",
            "batch_normalization_56 (BatchNo (None, 32, 32, 80)   320         concatenate_51[0][0]             \n",
            "__________________________________________________________________________________________________\n",
            "activation_56 (Activation)      (None, 32, 32, 80)   0           batch_normalization_56[0][0]     \n",
            "__________________________________________________________________________________________________\n",
            "conv2d_57 (Conv2D)              (None, 32, 32, 16)   11520       activation_56[0][0]              \n",
            "__________________________________________________________________________________________________\n",
            "dropout_55 (Dropout)            (None, 32, 32, 16)   0           conv2d_57[0][0]                  \n",
            "__________________________________________________________________________________________________\n",
            "concatenate_52 (Concatenate)    (None, 32, 32, 96)   0           concatenate_51[0][0]             \n",
            "                                                                 dropout_55[0][0]                 \n",
            "__________________________________________________________________________________________________\n",
            "batch_normalization_57 (BatchNo (None, 32, 32, 96)   384         concatenate_52[0][0]             \n",
            "__________________________________________________________________________________________________\n",
            "activation_57 (Activation)      (None, 32, 32, 96)   0           batch_normalization_57[0][0]     \n",
            "__________________________________________________________________________________________________\n",
            "conv2d_58 (Conv2D)              (None, 32, 32, 16)   13824       activation_57[0][0]              \n",
            "__________________________________________________________________________________________________\n",
            "dropout_56 (Dropout)            (None, 32, 32, 16)   0           conv2d_58[0][0]                  \n",
            "__________________________________________________________________________________________________\n",
            "concatenate_53 (Concatenate)    (None, 32, 32, 112)  0           concatenate_52[0][0]             \n",
            "                                                                 dropout_56[0][0]                 \n",
            "__________________________________________________________________________________________________\n",
            "batch_normalization_58 (BatchNo (None, 32, 32, 112)  448         concatenate_53[0][0]             \n",
            "__________________________________________________________________________________________________\n",
            "activation_58 (Activation)      (None, 32, 32, 112)  0           batch_normalization_58[0][0]     \n",
            "__________________________________________________________________________________________________\n",
            "conv2d_59 (Conv2D)              (None, 32, 32, 16)   16128       activation_58[0][0]              \n",
            "__________________________________________________________________________________________________\n",
            "dropout_57 (Dropout)            (None, 32, 32, 16)   0           conv2d_59[0][0]                  \n",
            "__________________________________________________________________________________________________\n",
            "concatenate_54 (Concatenate)    (None, 32, 32, 128)  0           concatenate_53[0][0]             \n",
            "                                                                 dropout_57[0][0]                 \n",
            "__________________________________________________________________________________________________\n",
            "batch_normalization_59 (BatchNo (None, 32, 32, 128)  512         concatenate_54[0][0]             \n",
            "__________________________________________________________________________________________________\n",
            "activation_59 (Activation)      (None, 32, 32, 128)  0           batch_normalization_59[0][0]     \n",
            "__________________________________________________________________________________________________\n",
            "conv2d_60 (Conv2D)              (None, 32, 32, 16)   18432       activation_59[0][0]              \n",
            "__________________________________________________________________________________________________\n",
            "dropout_58 (Dropout)            (None, 32, 32, 16)   0           conv2d_60[0][0]                  \n",
            "__________________________________________________________________________________________________\n",
            "concatenate_55 (Concatenate)    (None, 32, 32, 144)  0           concatenate_54[0][0]             \n",
            "                                                                 dropout_58[0][0]                 \n",
            "__________________________________________________________________________________________________\n",
            "batch_normalization_60 (BatchNo (None, 32, 32, 144)  576         concatenate_55[0][0]             \n",
            "__________________________________________________________________________________________________\n",
            "activation_60 (Activation)      (None, 32, 32, 144)  0           batch_normalization_60[0][0]     \n",
            "__________________________________________________________________________________________________\n",
            "conv2d_61 (Conv2D)              (None, 32, 32, 16)   20736       activation_60[0][0]              \n",
            "__________________________________________________________________________________________________\n",
            "dropout_59 (Dropout)            (None, 32, 32, 16)   0           conv2d_61[0][0]                  \n",
            "__________________________________________________________________________________________________\n",
            "concatenate_56 (Concatenate)    (None, 32, 32, 160)  0           concatenate_55[0][0]             \n",
            "                                                                 dropout_59[0][0]                 \n",
            "__________________________________________________________________________________________________\n",
            "batch_normalization_61 (BatchNo (None, 32, 32, 160)  640         concatenate_56[0][0]             \n",
            "__________________________________________________________________________________________________\n",
            "activation_61 (Activation)      (None, 32, 32, 160)  0           batch_normalization_61[0][0]     \n",
            "__________________________________________________________________________________________________\n",
            "conv2d_62 (Conv2D)              (None, 32, 32, 16)   23040       activation_61[0][0]              \n",
            "__________________________________________________________________________________________________\n",
            "dropout_60 (Dropout)            (None, 32, 32, 16)   0           conv2d_62[0][0]                  \n",
            "__________________________________________________________________________________________________\n",
            "concatenate_57 (Concatenate)    (None, 32, 32, 176)  0           concatenate_56[0][0]             \n",
            "                                                                 dropout_60[0][0]                 \n",
            "__________________________________________________________________________________________________\n",
            "batch_normalization_62 (BatchNo (None, 32, 32, 176)  704         concatenate_57[0][0]             \n",
            "__________________________________________________________________________________________________\n",
            "activation_62 (Activation)      (None, 32, 32, 176)  0           batch_normalization_62[0][0]     \n",
            "__________________________________________________________________________________________________\n",
            "conv2d_63 (Conv2D)              (None, 32, 32, 16)   25344       activation_62[0][0]              \n",
            "__________________________________________________________________________________________________\n",
            "dropout_61 (Dropout)            (None, 32, 32, 16)   0           conv2d_63[0][0]                  \n",
            "__________________________________________________________________________________________________\n",
            "concatenate_58 (Concatenate)    (None, 32, 32, 192)  0           concatenate_57[0][0]             \n",
            "                                                                 dropout_61[0][0]                 \n",
            "__________________________________________________________________________________________________\n",
            "batch_normalization_63 (BatchNo (None, 32, 32, 192)  768         concatenate_58[0][0]             \n",
            "__________________________________________________________________________________________________\n",
            "activation_63 (Activation)      (None, 32, 32, 192)  0           batch_normalization_63[0][0]     \n",
            "__________________________________________________________________________________________________\n",
            "conv2d_64 (Conv2D)              (None, 32, 32, 16)   27648       activation_63[0][0]              \n",
            "__________________________________________________________________________________________________\n",
            "dropout_62 (Dropout)            (None, 32, 32, 16)   0           conv2d_64[0][0]                  \n",
            "__________________________________________________________________________________________________\n",
            "concatenate_59 (Concatenate)    (None, 32, 32, 208)  0           concatenate_58[0][0]             \n",
            "                                                                 dropout_62[0][0]                 \n",
            "__________________________________________________________________________________________________\n",
            "batch_normalization_64 (BatchNo (None, 32, 32, 208)  832         concatenate_59[0][0]             \n",
            "__________________________________________________________________________________________________\n",
            "activation_64 (Activation)      (None, 32, 32, 208)  0           batch_normalization_64[0][0]     \n",
            "__________________________________________________________________________________________________\n",
            "conv2d_65 (Conv2D)              (None, 32, 32, 16)   29952       activation_64[0][0]              \n",
            "__________________________________________________________________________________________________\n",
            "dropout_63 (Dropout)            (None, 32, 32, 16)   0           conv2d_65[0][0]                  \n",
            "__________________________________________________________________________________________________\n",
            "concatenate_60 (Concatenate)    (None, 32, 32, 224)  0           concatenate_59[0][0]             \n",
            "                                                                 dropout_63[0][0]                 \n",
            "__________________________________________________________________________________________________\n",
            "batch_normalization_65 (BatchNo (None, 32, 32, 224)  896         concatenate_60[0][0]             \n",
            "__________________________________________________________________________________________________\n",
            "activation_65 (Activation)      (None, 32, 32, 224)  0           batch_normalization_65[0][0]     \n",
            "__________________________________________________________________________________________________\n",
            "conv2d_66 (Conv2D)              (None, 32, 32, 16)   3584        activation_65[0][0]              \n",
            "__________________________________________________________________________________________________\n",
            "dropout_64 (Dropout)            (None, 32, 32, 16)   0           conv2d_66[0][0]                  \n",
            "__________________________________________________________________________________________________\n",
            "average_pooling2d_5 (AveragePoo (None, 16, 16, 16)   0           dropout_64[0][0]                 \n",
            "__________________________________________________________________________________________________\n",
            "batch_normalization_66 (BatchNo (None, 16, 16, 16)   64          average_pooling2d_5[0][0]        \n",
            "__________________________________________________________________________________________________\n",
            "activation_66 (Activation)      (None, 16, 16, 16)   0           batch_normalization_66[0][0]     \n",
            "__________________________________________________________________________________________________\n",
            "conv2d_67 (Conv2D)              (None, 16, 16, 16)   2304        activation_66[0][0]              \n",
            "__________________________________________________________________________________________________\n",
            "dropout_65 (Dropout)            (None, 16, 16, 16)   0           conv2d_67[0][0]                  \n",
            "__________________________________________________________________________________________________\n",
            "concatenate_61 (Concatenate)    (None, 16, 16, 32)   0           average_pooling2d_5[0][0]        \n",
            "                                                                 dropout_65[0][0]                 \n",
            "__________________________________________________________________________________________________\n",
            "batch_normalization_67 (BatchNo (None, 16, 16, 32)   128         concatenate_61[0][0]             \n",
            "__________________________________________________________________________________________________\n",
            "activation_67 (Activation)      (None, 16, 16, 32)   0           batch_normalization_67[0][0]     \n",
            "__________________________________________________________________________________________________\n",
            "conv2d_68 (Conv2D)              (None, 16, 16, 16)   4608        activation_67[0][0]              \n",
            "__________________________________________________________________________________________________\n",
            "dropout_66 (Dropout)            (None, 16, 16, 16)   0           conv2d_68[0][0]                  \n",
            "__________________________________________________________________________________________________\n",
            "concatenate_62 (Concatenate)    (None, 16, 16, 48)   0           concatenate_61[0][0]             \n",
            "                                                                 dropout_66[0][0]                 \n",
            "__________________________________________________________________________________________________\n",
            "batch_normalization_68 (BatchNo (None, 16, 16, 48)   192         concatenate_62[0][0]             \n",
            "__________________________________________________________________________________________________\n",
            "activation_68 (Activation)      (None, 16, 16, 48)   0           batch_normalization_68[0][0]     \n",
            "__________________________________________________________________________________________________\n",
            "conv2d_69 (Conv2D)              (None, 16, 16, 16)   6912        activation_68[0][0]              \n",
            "__________________________________________________________________________________________________\n",
            "dropout_67 (Dropout)            (None, 16, 16, 16)   0           conv2d_69[0][0]                  \n",
            "__________________________________________________________________________________________________\n",
            "concatenate_63 (Concatenate)    (None, 16, 16, 64)   0           concatenate_62[0][0]             \n",
            "                                                                 dropout_67[0][0]                 \n",
            "__________________________________________________________________________________________________\n",
            "batch_normalization_69 (BatchNo (None, 16, 16, 64)   256         concatenate_63[0][0]             \n",
            "__________________________________________________________________________________________________\n",
            "activation_69 (Activation)      (None, 16, 16, 64)   0           batch_normalization_69[0][0]     \n",
            "__________________________________________________________________________________________________\n",
            "conv2d_70 (Conv2D)              (None, 16, 16, 16)   9216        activation_69[0][0]              \n",
            "__________________________________________________________________________________________________\n",
            "dropout_68 (Dropout)            (None, 16, 16, 16)   0           conv2d_70[0][0]                  \n",
            "__________________________________________________________________________________________________\n",
            "concatenate_64 (Concatenate)    (None, 16, 16, 80)   0           concatenate_63[0][0]             \n",
            "                                                                 dropout_68[0][0]                 \n",
            "__________________________________________________________________________________________________\n",
            "batch_normalization_70 (BatchNo (None, 16, 16, 80)   320         concatenate_64[0][0]             \n",
            "__________________________________________________________________________________________________\n",
            "activation_70 (Activation)      (None, 16, 16, 80)   0           batch_normalization_70[0][0]     \n",
            "__________________________________________________________________________________________________\n",
            "conv2d_71 (Conv2D)              (None, 16, 16, 16)   11520       activation_70[0][0]              \n",
            "__________________________________________________________________________________________________\n",
            "dropout_69 (Dropout)            (None, 16, 16, 16)   0           conv2d_71[0][0]                  \n",
            "__________________________________________________________________________________________________\n",
            "concatenate_65 (Concatenate)    (None, 16, 16, 96)   0           concatenate_64[0][0]             \n",
            "                                                                 dropout_69[0][0]                 \n",
            "__________________________________________________________________________________________________\n",
            "batch_normalization_71 (BatchNo (None, 16, 16, 96)   384         concatenate_65[0][0]             \n",
            "__________________________________________________________________________________________________\n",
            "activation_71 (Activation)      (None, 16, 16, 96)   0           batch_normalization_71[0][0]     \n",
            "__________________________________________________________________________________________________\n",
            "conv2d_72 (Conv2D)              (None, 16, 16, 16)   13824       activation_71[0][0]              \n",
            "__________________________________________________________________________________________________\n",
            "dropout_70 (Dropout)            (None, 16, 16, 16)   0           conv2d_72[0][0]                  \n",
            "__________________________________________________________________________________________________\n",
            "concatenate_66 (Concatenate)    (None, 16, 16, 112)  0           concatenate_65[0][0]             \n",
            "                                                                 dropout_70[0][0]                 \n",
            "__________________________________________________________________________________________________\n",
            "batch_normalization_72 (BatchNo (None, 16, 16, 112)  448         concatenate_66[0][0]             \n",
            "__________________________________________________________________________________________________\n",
            "activation_72 (Activation)      (None, 16, 16, 112)  0           batch_normalization_72[0][0]     \n",
            "__________________________________________________________________________________________________\n",
            "conv2d_73 (Conv2D)              (None, 16, 16, 16)   16128       activation_72[0][0]              \n",
            "__________________________________________________________________________________________________\n",
            "dropout_71 (Dropout)            (None, 16, 16, 16)   0           conv2d_73[0][0]                  \n",
            "__________________________________________________________________________________________________\n",
            "concatenate_67 (Concatenate)    (None, 16, 16, 128)  0           concatenate_66[0][0]             \n",
            "                                                                 dropout_71[0][0]                 \n",
            "__________________________________________________________________________________________________\n",
            "batch_normalization_73 (BatchNo (None, 16, 16, 128)  512         concatenate_67[0][0]             \n",
            "__________________________________________________________________________________________________\n",
            "activation_73 (Activation)      (None, 16, 16, 128)  0           batch_normalization_73[0][0]     \n",
            "__________________________________________________________________________________________________\n",
            "conv2d_74 (Conv2D)              (None, 16, 16, 16)   18432       activation_73[0][0]              \n",
            "__________________________________________________________________________________________________\n",
            "dropout_72 (Dropout)            (None, 16, 16, 16)   0           conv2d_74[0][0]                  \n",
            "__________________________________________________________________________________________________\n",
            "concatenate_68 (Concatenate)    (None, 16, 16, 144)  0           concatenate_67[0][0]             \n",
            "                                                                 dropout_72[0][0]                 \n",
            "__________________________________________________________________________________________________\n",
            "batch_normalization_74 (BatchNo (None, 16, 16, 144)  576         concatenate_68[0][0]             \n",
            "__________________________________________________________________________________________________\n",
            "activation_74 (Activation)      (None, 16, 16, 144)  0           batch_normalization_74[0][0]     \n",
            "__________________________________________________________________________________________________\n",
            "conv2d_75 (Conv2D)              (None, 16, 16, 16)   20736       activation_74[0][0]              \n",
            "__________________________________________________________________________________________________\n",
            "dropout_73 (Dropout)            (None, 16, 16, 16)   0           conv2d_75[0][0]                  \n",
            "__________________________________________________________________________________________________\n",
            "concatenate_69 (Concatenate)    (None, 16, 16, 160)  0           concatenate_68[0][0]             \n",
            "                                                                 dropout_73[0][0]                 \n",
            "__________________________________________________________________________________________________\n",
            "batch_normalization_75 (BatchNo (None, 16, 16, 160)  640         concatenate_69[0][0]             \n",
            "__________________________________________________________________________________________________\n",
            "activation_75 (Activation)      (None, 16, 16, 160)  0           batch_normalization_75[0][0]     \n",
            "__________________________________________________________________________________________________\n",
            "conv2d_76 (Conv2D)              (None, 16, 16, 16)   23040       activation_75[0][0]              \n",
            "__________________________________________________________________________________________________\n",
            "dropout_74 (Dropout)            (None, 16, 16, 16)   0           conv2d_76[0][0]                  \n",
            "__________________________________________________________________________________________________\n",
            "concatenate_70 (Concatenate)    (None, 16, 16, 176)  0           concatenate_69[0][0]             \n",
            "                                                                 dropout_74[0][0]                 \n",
            "__________________________________________________________________________________________________\n",
            "batch_normalization_76 (BatchNo (None, 16, 16, 176)  704         concatenate_70[0][0]             \n",
            "__________________________________________________________________________________________________\n",
            "activation_76 (Activation)      (None, 16, 16, 176)  0           batch_normalization_76[0][0]     \n",
            "__________________________________________________________________________________________________\n",
            "conv2d_77 (Conv2D)              (None, 16, 16, 16)   25344       activation_76[0][0]              \n",
            "__________________________________________________________________________________________________\n",
            "dropout_75 (Dropout)            (None, 16, 16, 16)   0           conv2d_77[0][0]                  \n",
            "__________________________________________________________________________________________________\n",
            "concatenate_71 (Concatenate)    (None, 16, 16, 192)  0           concatenate_70[0][0]             \n",
            "                                                                 dropout_75[0][0]                 \n",
            "__________________________________________________________________________________________________\n",
            "batch_normalization_77 (BatchNo (None, 16, 16, 192)  768         concatenate_71[0][0]             \n",
            "__________________________________________________________________________________________________\n",
            "activation_77 (Activation)      (None, 16, 16, 192)  0           batch_normalization_77[0][0]     \n",
            "__________________________________________________________________________________________________\n",
            "conv2d_78 (Conv2D)              (None, 16, 16, 16)   27648       activation_77[0][0]              \n",
            "__________________________________________________________________________________________________\n",
            "dropout_76 (Dropout)            (None, 16, 16, 16)   0           conv2d_78[0][0]                  \n",
            "__________________________________________________________________________________________________\n",
            "concatenate_72 (Concatenate)    (None, 16, 16, 208)  0           concatenate_71[0][0]             \n",
            "                                                                 dropout_76[0][0]                 \n",
            "__________________________________________________________________________________________________\n",
            "batch_normalization_78 (BatchNo (None, 16, 16, 208)  832         concatenate_72[0][0]             \n",
            "__________________________________________________________________________________________________\n",
            "activation_78 (Activation)      (None, 16, 16, 208)  0           batch_normalization_78[0][0]     \n",
            "__________________________________________________________________________________________________\n",
            "conv2d_79 (Conv2D)              (None, 16, 16, 16)   3328        activation_78[0][0]              \n",
            "__________________________________________________________________________________________________\n",
            "dropout_77 (Dropout)            (None, 16, 16, 16)   0           conv2d_79[0][0]                  \n",
            "__________________________________________________________________________________________________\n",
            "average_pooling2d_6 (AveragePoo (None, 8, 8, 16)     0           dropout_77[0][0]                 \n",
            "__________________________________________________________________________________________________\n",
            "batch_normalization_79 (BatchNo (None, 8, 8, 16)     64          average_pooling2d_6[0][0]        \n",
            "__________________________________________________________________________________________________\n",
            "activation_79 (Activation)      (None, 8, 8, 16)     0           batch_normalization_79[0][0]     \n",
            "__________________________________________________________________________________________________\n",
            "conv2d_80 (Conv2D)              (None, 8, 8, 16)     2304        activation_79[0][0]              \n",
            "__________________________________________________________________________________________________\n",
            "dropout_78 (Dropout)            (None, 8, 8, 16)     0           conv2d_80[0][0]                  \n",
            "__________________________________________________________________________________________________\n",
            "concatenate_73 (Concatenate)    (None, 8, 8, 32)     0           average_pooling2d_6[0][0]        \n",
            "                                                                 dropout_78[0][0]                 \n",
            "__________________________________________________________________________________________________\n",
            "batch_normalization_80 (BatchNo (None, 8, 8, 32)     128         concatenate_73[0][0]             \n",
            "__________________________________________________________________________________________________\n",
            "activation_80 (Activation)      (None, 8, 8, 32)     0           batch_normalization_80[0][0]     \n",
            "__________________________________________________________________________________________________\n",
            "conv2d_81 (Conv2D)              (None, 8, 8, 16)     4608        activation_80[0][0]              \n",
            "__________________________________________________________________________________________________\n",
            "dropout_79 (Dropout)            (None, 8, 8, 16)     0           conv2d_81[0][0]                  \n",
            "__________________________________________________________________________________________________\n",
            "concatenate_74 (Concatenate)    (None, 8, 8, 48)     0           concatenate_73[0][0]             \n",
            "                                                                 dropout_79[0][0]                 \n",
            "__________________________________________________________________________________________________\n",
            "batch_normalization_81 (BatchNo (None, 8, 8, 48)     192         concatenate_74[0][0]             \n",
            "__________________________________________________________________________________________________\n",
            "activation_81 (Activation)      (None, 8, 8, 48)     0           batch_normalization_81[0][0]     \n",
            "__________________________________________________________________________________________________\n",
            "conv2d_82 (Conv2D)              (None, 8, 8, 16)     6912        activation_81[0][0]              \n",
            "__________________________________________________________________________________________________\n",
            "dropout_80 (Dropout)            (None, 8, 8, 16)     0           conv2d_82[0][0]                  \n",
            "__________________________________________________________________________________________________\n",
            "concatenate_75 (Concatenate)    (None, 8, 8, 64)     0           concatenate_74[0][0]             \n",
            "                                                                 dropout_80[0][0]                 \n",
            "__________________________________________________________________________________________________\n",
            "batch_normalization_82 (BatchNo (None, 8, 8, 64)     256         concatenate_75[0][0]             \n",
            "__________________________________________________________________________________________________\n",
            "activation_82 (Activation)      (None, 8, 8, 64)     0           batch_normalization_82[0][0]     \n",
            "__________________________________________________________________________________________________\n",
            "conv2d_83 (Conv2D)              (None, 8, 8, 16)     9216        activation_82[0][0]              \n",
            "__________________________________________________________________________________________________\n",
            "dropout_81 (Dropout)            (None, 8, 8, 16)     0           conv2d_83[0][0]                  \n",
            "__________________________________________________________________________________________________\n",
            "concatenate_76 (Concatenate)    (None, 8, 8, 80)     0           concatenate_75[0][0]             \n",
            "                                                                 dropout_81[0][0]                 \n",
            "__________________________________________________________________________________________________\n",
            "batch_normalization_83 (BatchNo (None, 8, 8, 80)     320         concatenate_76[0][0]             \n",
            "__________________________________________________________________________________________________\n",
            "activation_83 (Activation)      (None, 8, 8, 80)     0           batch_normalization_83[0][0]     \n",
            "__________________________________________________________________________________________________\n",
            "conv2d_84 (Conv2D)              (None, 8, 8, 16)     11520       activation_83[0][0]              \n",
            "__________________________________________________________________________________________________\n",
            "dropout_82 (Dropout)            (None, 8, 8, 16)     0           conv2d_84[0][0]                  \n",
            "__________________________________________________________________________________________________\n",
            "concatenate_77 (Concatenate)    (None, 8, 8, 96)     0           concatenate_76[0][0]             \n",
            "                                                                 dropout_82[0][0]                 \n",
            "__________________________________________________________________________________________________\n",
            "batch_normalization_84 (BatchNo (None, 8, 8, 96)     384         concatenate_77[0][0]             \n",
            "__________________________________________________________________________________________________\n",
            "activation_84 (Activation)      (None, 8, 8, 96)     0           batch_normalization_84[0][0]     \n",
            "__________________________________________________________________________________________________\n",
            "conv2d_85 (Conv2D)              (None, 8, 8, 16)     13824       activation_84[0][0]              \n",
            "__________________________________________________________________________________________________\n",
            "dropout_83 (Dropout)            (None, 8, 8, 16)     0           conv2d_85[0][0]                  \n",
            "__________________________________________________________________________________________________\n",
            "concatenate_78 (Concatenate)    (None, 8, 8, 112)    0           concatenate_77[0][0]             \n",
            "                                                                 dropout_83[0][0]                 \n",
            "__________________________________________________________________________________________________\n",
            "batch_normalization_85 (BatchNo (None, 8, 8, 112)    448         concatenate_78[0][0]             \n",
            "__________________________________________________________________________________________________\n",
            "activation_85 (Activation)      (None, 8, 8, 112)    0           batch_normalization_85[0][0]     \n",
            "__________________________________________________________________________________________________\n",
            "conv2d_86 (Conv2D)              (None, 8, 8, 16)     16128       activation_85[0][0]              \n",
            "__________________________________________________________________________________________________\n",
            "dropout_84 (Dropout)            (None, 8, 8, 16)     0           conv2d_86[0][0]                  \n",
            "__________________________________________________________________________________________________\n",
            "concatenate_79 (Concatenate)    (None, 8, 8, 128)    0           concatenate_78[0][0]             \n",
            "                                                                 dropout_84[0][0]                 \n",
            "__________________________________________________________________________________________________\n",
            "batch_normalization_86 (BatchNo (None, 8, 8, 128)    512         concatenate_79[0][0]             \n",
            "__________________________________________________________________________________________________\n",
            "activation_86 (Activation)      (None, 8, 8, 128)    0           batch_normalization_86[0][0]     \n",
            "__________________________________________________________________________________________________\n",
            "conv2d_87 (Conv2D)              (None, 8, 8, 16)     18432       activation_86[0][0]              \n",
            "__________________________________________________________________________________________________\n",
            "dropout_85 (Dropout)            (None, 8, 8, 16)     0           conv2d_87[0][0]                  \n",
            "__________________________________________________________________________________________________\n",
            "concatenate_80 (Concatenate)    (None, 8, 8, 144)    0           concatenate_79[0][0]             \n",
            "                                                                 dropout_85[0][0]                 \n",
            "__________________________________________________________________________________________________\n",
            "batch_normalization_87 (BatchNo (None, 8, 8, 144)    576         concatenate_80[0][0]             \n",
            "__________________________________________________________________________________________________\n",
            "activation_87 (Activation)      (None, 8, 8, 144)    0           batch_normalization_87[0][0]     \n",
            "__________________________________________________________________________________________________\n",
            "conv2d_88 (Conv2D)              (None, 8, 8, 16)     20736       activation_87[0][0]              \n",
            "__________________________________________________________________________________________________\n",
            "dropout_86 (Dropout)            (None, 8, 8, 16)     0           conv2d_88[0][0]                  \n",
            "__________________________________________________________________________________________________\n",
            "concatenate_81 (Concatenate)    (None, 8, 8, 160)    0           concatenate_80[0][0]             \n",
            "                                                                 dropout_86[0][0]                 \n",
            "__________________________________________________________________________________________________\n",
            "batch_normalization_88 (BatchNo (None, 8, 8, 160)    640         concatenate_81[0][0]             \n",
            "__________________________________________________________________________________________________\n",
            "activation_88 (Activation)      (None, 8, 8, 160)    0           batch_normalization_88[0][0]     \n",
            "__________________________________________________________________________________________________\n",
            "conv2d_89 (Conv2D)              (None, 8, 8, 16)     23040       activation_88[0][0]              \n",
            "__________________________________________________________________________________________________\n",
            "dropout_87 (Dropout)            (None, 8, 8, 16)     0           conv2d_89[0][0]                  \n",
            "__________________________________________________________________________________________________\n",
            "concatenate_82 (Concatenate)    (None, 8, 8, 176)    0           concatenate_81[0][0]             \n",
            "                                                                 dropout_87[0][0]                 \n",
            "__________________________________________________________________________________________________\n",
            "batch_normalization_89 (BatchNo (None, 8, 8, 176)    704         concatenate_82[0][0]             \n",
            "__________________________________________________________________________________________________\n",
            "activation_89 (Activation)      (None, 8, 8, 176)    0           batch_normalization_89[0][0]     \n",
            "__________________________________________________________________________________________________\n",
            "conv2d_90 (Conv2D)              (None, 8, 8, 16)     25344       activation_89[0][0]              \n",
            "__________________________________________________________________________________________________\n",
            "dropout_88 (Dropout)            (None, 8, 8, 16)     0           conv2d_90[0][0]                  \n",
            "__________________________________________________________________________________________________\n",
            "concatenate_83 (Concatenate)    (None, 8, 8, 192)    0           concatenate_82[0][0]             \n",
            "                                                                 dropout_88[0][0]                 \n",
            "__________________________________________________________________________________________________\n",
            "batch_normalization_90 (BatchNo (None, 8, 8, 192)    768         concatenate_83[0][0]             \n",
            "__________________________________________________________________________________________________\n",
            "activation_90 (Activation)      (None, 8, 8, 192)    0           batch_normalization_90[0][0]     \n",
            "__________________________________________________________________________________________________\n",
            "conv2d_91 (Conv2D)              (None, 8, 8, 16)     27648       activation_90[0][0]              \n",
            "__________________________________________________________________________________________________\n",
            "dropout_89 (Dropout)            (None, 8, 8, 16)     0           conv2d_91[0][0]                  \n",
            "__________________________________________________________________________________________________\n",
            "concatenate_84 (Concatenate)    (None, 8, 8, 208)    0           concatenate_83[0][0]             \n",
            "                                                                 dropout_89[0][0]                 \n",
            "__________________________________________________________________________________________________\n",
            "batch_normalization_91 (BatchNo (None, 8, 8, 208)    832         concatenate_84[0][0]             \n",
            "__________________________________________________________________________________________________\n",
            "activation_91 (Activation)      (None, 8, 8, 208)    0           batch_normalization_91[0][0]     \n",
            "__________________________________________________________________________________________________\n",
            "conv2d_92 (Conv2D)              (None, 8, 8, 16)     3328        activation_91[0][0]              \n",
            "__________________________________________________________________________________________________\n",
            "dropout_90 (Dropout)            (None, 8, 8, 16)     0           conv2d_92[0][0]                  \n",
            "__________________________________________________________________________________________________\n",
            "average_pooling2d_7 (AveragePoo (None, 4, 4, 16)     0           dropout_90[0][0]                 \n",
            "__________________________________________________________________________________________________\n",
            "batch_normalization_92 (BatchNo (None, 4, 4, 16)     64          average_pooling2d_7[0][0]        \n",
            "__________________________________________________________________________________________________\n",
            "activation_92 (Activation)      (None, 4, 4, 16)     0           batch_normalization_92[0][0]     \n",
            "__________________________________________________________________________________________________\n",
            "conv2d_93 (Conv2D)              (None, 4, 4, 16)     2304        activation_92[0][0]              \n",
            "__________________________________________________________________________________________________\n",
            "dropout_91 (Dropout)            (None, 4, 4, 16)     0           conv2d_93[0][0]                  \n",
            "__________________________________________________________________________________________________\n",
            "concatenate_85 (Concatenate)    (None, 4, 4, 32)     0           average_pooling2d_7[0][0]        \n",
            "                                                                 dropout_91[0][0]                 \n",
            "__________________________________________________________________________________________________\n",
            "batch_normalization_93 (BatchNo (None, 4, 4, 32)     128         concatenate_85[0][0]             \n",
            "__________________________________________________________________________________________________\n",
            "activation_93 (Activation)      (None, 4, 4, 32)     0           batch_normalization_93[0][0]     \n",
            "__________________________________________________________________________________________________\n",
            "conv2d_94 (Conv2D)              (None, 4, 4, 16)     4608        activation_93[0][0]              \n",
            "__________________________________________________________________________________________________\n",
            "dropout_92 (Dropout)            (None, 4, 4, 16)     0           conv2d_94[0][0]                  \n",
            "__________________________________________________________________________________________________\n",
            "concatenate_86 (Concatenate)    (None, 4, 4, 48)     0           concatenate_85[0][0]             \n",
            "                                                                 dropout_92[0][0]                 \n",
            "__________________________________________________________________________________________________\n",
            "batch_normalization_94 (BatchNo (None, 4, 4, 48)     192         concatenate_86[0][0]             \n",
            "__________________________________________________________________________________________________\n",
            "activation_94 (Activation)      (None, 4, 4, 48)     0           batch_normalization_94[0][0]     \n",
            "__________________________________________________________________________________________________\n",
            "conv2d_95 (Conv2D)              (None, 4, 4, 16)     6912        activation_94[0][0]              \n",
            "__________________________________________________________________________________________________\n",
            "dropout_93 (Dropout)            (None, 4, 4, 16)     0           conv2d_95[0][0]                  \n",
            "__________________________________________________________________________________________________\n",
            "concatenate_87 (Concatenate)    (None, 4, 4, 64)     0           concatenate_86[0][0]             \n",
            "                                                                 dropout_93[0][0]                 \n",
            "__________________________________________________________________________________________________\n",
            "batch_normalization_95 (BatchNo (None, 4, 4, 64)     256         concatenate_87[0][0]             \n",
            "__________________________________________________________________________________________________\n",
            "activation_95 (Activation)      (None, 4, 4, 64)     0           batch_normalization_95[0][0]     \n",
            "__________________________________________________________________________________________________\n",
            "conv2d_96 (Conv2D)              (None, 4, 4, 16)     9216        activation_95[0][0]              \n",
            "__________________________________________________________________________________________________\n",
            "dropout_94 (Dropout)            (None, 4, 4, 16)     0           conv2d_96[0][0]                  \n",
            "__________________________________________________________________________________________________\n",
            "concatenate_88 (Concatenate)    (None, 4, 4, 80)     0           concatenate_87[0][0]             \n",
            "                                                                 dropout_94[0][0]                 \n",
            "__________________________________________________________________________________________________\n",
            "batch_normalization_96 (BatchNo (None, 4, 4, 80)     320         concatenate_88[0][0]             \n",
            "__________________________________________________________________________________________________\n",
            "activation_96 (Activation)      (None, 4, 4, 80)     0           batch_normalization_96[0][0]     \n",
            "__________________________________________________________________________________________________\n",
            "conv2d_97 (Conv2D)              (None, 4, 4, 16)     11520       activation_96[0][0]              \n",
            "__________________________________________________________________________________________________\n",
            "dropout_95 (Dropout)            (None, 4, 4, 16)     0           conv2d_97[0][0]                  \n",
            "__________________________________________________________________________________________________\n",
            "concatenate_89 (Concatenate)    (None, 4, 4, 96)     0           concatenate_88[0][0]             \n",
            "                                                                 dropout_95[0][0]                 \n",
            "__________________________________________________________________________________________________\n",
            "batch_normalization_97 (BatchNo (None, 4, 4, 96)     384         concatenate_89[0][0]             \n",
            "__________________________________________________________________________________________________\n",
            "activation_97 (Activation)      (None, 4, 4, 96)     0           batch_normalization_97[0][0]     \n",
            "__________________________________________________________________________________________________\n",
            "conv2d_98 (Conv2D)              (None, 4, 4, 16)     13824       activation_97[0][0]              \n",
            "__________________________________________________________________________________________________\n",
            "dropout_96 (Dropout)            (None, 4, 4, 16)     0           conv2d_98[0][0]                  \n",
            "__________________________________________________________________________________________________\n",
            "concatenate_90 (Concatenate)    (None, 4, 4, 112)    0           concatenate_89[0][0]             \n",
            "                                                                 dropout_96[0][0]                 \n",
            "__________________________________________________________________________________________________\n",
            "batch_normalization_98 (BatchNo (None, 4, 4, 112)    448         concatenate_90[0][0]             \n",
            "__________________________________________________________________________________________________\n",
            "activation_98 (Activation)      (None, 4, 4, 112)    0           batch_normalization_98[0][0]     \n",
            "__________________________________________________________________________________________________\n",
            "conv2d_99 (Conv2D)              (None, 4, 4, 16)     16128       activation_98[0][0]              \n",
            "__________________________________________________________________________________________________\n",
            "dropout_97 (Dropout)            (None, 4, 4, 16)     0           conv2d_99[0][0]                  \n",
            "__________________________________________________________________________________________________\n",
            "concatenate_91 (Concatenate)    (None, 4, 4, 128)    0           concatenate_90[0][0]             \n",
            "                                                                 dropout_97[0][0]                 \n",
            "__________________________________________________________________________________________________\n",
            "batch_normalization_99 (BatchNo (None, 4, 4, 128)    512         concatenate_91[0][0]             \n",
            "__________________________________________________________________________________________________\n",
            "activation_99 (Activation)      (None, 4, 4, 128)    0           batch_normalization_99[0][0]     \n",
            "__________________________________________________________________________________________________\n",
            "conv2d_100 (Conv2D)             (None, 4, 4, 16)     18432       activation_99[0][0]              \n",
            "__________________________________________________________________________________________________\n",
            "dropout_98 (Dropout)            (None, 4, 4, 16)     0           conv2d_100[0][0]                 \n",
            "__________________________________________________________________________________________________\n",
            "concatenate_92 (Concatenate)    (None, 4, 4, 144)    0           concatenate_91[0][0]             \n",
            "                                                                 dropout_98[0][0]                 \n",
            "__________________________________________________________________________________________________\n",
            "batch_normalization_100 (BatchN (None, 4, 4, 144)    576         concatenate_92[0][0]             \n",
            "__________________________________________________________________________________________________\n",
            "activation_100 (Activation)     (None, 4, 4, 144)    0           batch_normalization_100[0][0]    \n",
            "__________________________________________________________________________________________________\n",
            "conv2d_101 (Conv2D)             (None, 4, 4, 16)     20736       activation_100[0][0]             \n",
            "__________________________________________________________________________________________________\n",
            "dropout_99 (Dropout)            (None, 4, 4, 16)     0           conv2d_101[0][0]                 \n",
            "__________________________________________________________________________________________________\n",
            "concatenate_93 (Concatenate)    (None, 4, 4, 160)    0           concatenate_92[0][0]             \n",
            "                                                                 dropout_99[0][0]                 \n",
            "__________________________________________________________________________________________________\n",
            "batch_normalization_101 (BatchN (None, 4, 4, 160)    640         concatenate_93[0][0]             \n",
            "__________________________________________________________________________________________________\n",
            "activation_101 (Activation)     (None, 4, 4, 160)    0           batch_normalization_101[0][0]    \n",
            "__________________________________________________________________________________________________\n",
            "conv2d_102 (Conv2D)             (None, 4, 4, 16)     23040       activation_101[0][0]             \n",
            "__________________________________________________________________________________________________\n",
            "dropout_100 (Dropout)           (None, 4, 4, 16)     0           conv2d_102[0][0]                 \n",
            "__________________________________________________________________________________________________\n",
            "concatenate_94 (Concatenate)    (None, 4, 4, 176)    0           concatenate_93[0][0]             \n",
            "                                                                 dropout_100[0][0]                \n",
            "__________________________________________________________________________________________________\n",
            "batch_normalization_102 (BatchN (None, 4, 4, 176)    704         concatenate_94[0][0]             \n",
            "__________________________________________________________________________________________________\n",
            "activation_102 (Activation)     (None, 4, 4, 176)    0           batch_normalization_102[0][0]    \n",
            "__________________________________________________________________________________________________\n",
            "conv2d_103 (Conv2D)             (None, 4, 4, 16)     25344       activation_102[0][0]             \n",
            "__________________________________________________________________________________________________\n",
            "dropout_101 (Dropout)           (None, 4, 4, 16)     0           conv2d_103[0][0]                 \n",
            "__________________________________________________________________________________________________\n",
            "concatenate_95 (Concatenate)    (None, 4, 4, 192)    0           concatenate_94[0][0]             \n",
            "                                                                 dropout_101[0][0]                \n",
            "__________________________________________________________________________________________________\n",
            "batch_normalization_103 (BatchN (None, 4, 4, 192)    768         concatenate_95[0][0]             \n",
            "__________________________________________________________________________________________________\n",
            "activation_103 (Activation)     (None, 4, 4, 192)    0           batch_normalization_103[0][0]    \n",
            "__________________________________________________________________________________________________\n",
            "conv2d_104 (Conv2D)             (None, 4, 4, 16)     27648       activation_103[0][0]             \n",
            "__________________________________________________________________________________________________\n",
            "dropout_102 (Dropout)           (None, 4, 4, 16)     0           conv2d_104[0][0]                 \n",
            "__________________________________________________________________________________________________\n",
            "concatenate_96 (Concatenate)    (None, 4, 4, 208)    0           concatenate_95[0][0]             \n",
            "                                                                 dropout_102[0][0]                \n",
            "__________________________________________________________________________________________________\n",
            "batch_normalization_104 (BatchN (None, 4, 4, 208)    832         concatenate_96[0][0]             \n",
            "__________________________________________________________________________________________________\n",
            "activation_104 (Activation)     (None, 4, 4, 208)    0           batch_normalization_104[0][0]    \n",
            "__________________________________________________________________________________________________\n",
            "average_pooling2d_8 (AveragePoo (None, 2, 2, 208)    0           activation_104[0][0]             \n",
            "__________________________________________________________________________________________________\n",
            "flatten_2 (Flatten)             (None, 832)          0           average_pooling2d_8[0][0]        \n",
            "__________________________________________________________________________________________________\n",
            "dense_2 (Dense)                 (None, 10)           8330        flatten_2[0][0]                  \n",
            "==================================================================================================\n",
            "Total params: 790,058\n",
            "Trainable params: 777,994\n",
            "Non-trainable params: 12,064\n",
            "__________________________________________________________________________________________________\n"
          ],
          "name": "stdout"
        }
      ]
    },
    {
      "metadata": {
        "id": "obG1wPaaJPEQ",
        "colab_type": "code",
        "colab": {
          "autoexec": {
            "startup": false,
            "wait_interval": 0
          }
        }
      },
      "cell_type": "code",
      "source": [
        "path=\"weights1.hdf5\"\n",
        "checkpoint = ModelCheckpoint(path, monitor='val_acc', verbose=1, save_best_only=True, mode='max')\n",
        "callbacks_list = [checkpoint]"
      ],
      "execution_count": 0,
      "outputs": []
    },
    {
      "metadata": {
        "id": "b4XOsW3ahSkL",
        "colab_type": "code",
        "colab": {
          "autoexec": {
            "startup": false,
            "wait_interval": 0
          }
        }
      },
      "cell_type": "code",
      "source": [
        "# determine Loss function and Optimizer\n",
        "model.compile(loss='categorical_crossentropy',\n",
        "              optimizer=Adam(),\n",
        "              metrics=['accuracy'])\n"
      ],
      "execution_count": 0,
      "outputs": []
    },
    {
      "metadata": {
        "id": "crhGk7kEhXAz",
        "colab_type": "code",
        "colab": {
          "autoexec": {
            "startup": false,
            "wait_interval": 0
          },
          "base_uri": "https://localhost:8080/",
          "height": 3673
        },
        "outputId": "78069906-7e76-45de-aedb-d32e25137f3a",
        "executionInfo": {
          "status": "ok",
          "timestamp": 1526420728440,
          "user_tz": -330,
          "elapsed": 15034619,
          "user": {
            "displayName": "Ddev Ddev",
            "photoUrl": "https://lh3.googleusercontent.com/a/default-user=s128",
            "userId": "114475786811527419051"
          }
        }
      },
      "cell_type": "code",
      "source": [
        "model.fit(x_train, y_train,\n",
        "                    batch_size=batch_size,\n",
        "                    epochs=epochs,\n",
        "                    verbose=1,\n",
        "          callbacks=callbacks_list,\n",
        "                    validation_data=(x_test, y_test))"
      ],
      "execution_count": 24,
      "outputs": [
        {
          "output_type": "stream",
          "text": [
            "Train on 50000 samples, validate on 10000 samples\n",
            "Epoch 1/50\n",
            "50000/50000 [==============================] - 318s 6ms/step - loss: 1.7752 - acc: 0.3302 - val_loss: 4.1575 - val_acc: 0.2211\n",
            "\n",
            "Epoch 00001: val_acc improved from -inf to 0.22110, saving model to weights1.hdf5\n",
            "Epoch 2/50\n",
            "14720/50000 [=======>......................] - ETA: 3:17 - loss: 1.4805 - acc: 0.4486"
          ],
          "name": "stdout"
        },
        {
          "output_type": "stream",
          "text": [
            "50000/50000 [==============================] - 299s 6ms/step - loss: 1.4043 - acc: 0.4785 - val_loss: 2.3836 - val_acc: 0.3659\n",
            "\n",
            "Epoch 00002: val_acc improved from 0.22110 to 0.36590, saving model to weights1.hdf5\n",
            "Epoch 3/50\n",
            "31488/50000 [=================>............] - ETA: 1:43 - loss: 1.2602 - acc: 0.5391"
          ],
          "name": "stdout"
        },
        {
          "output_type": "stream",
          "text": [
            "50000/50000 [==============================] - 300s 6ms/step - loss: 1.2288 - acc: 0.5525 - val_loss: 3.4577 - val_acc: 0.3757\n",
            "\n",
            "Epoch 00003: val_acc improved from 0.36590 to 0.37570, saving model to weights1.hdf5\n",
            "Epoch 4/50\n",
            "36096/50000 [====================>.........] - ETA: 1:18 - loss: 1.1121 - acc: 0.5977"
          ],
          "name": "stdout"
        },
        {
          "output_type": "stream",
          "text": [
            "50000/50000 [==============================] - 300s 6ms/step - loss: 1.0990 - acc: 0.6019 - val_loss: 1.7347 - val_acc: 0.5263\n",
            "\n",
            "Epoch 00004: val_acc improved from 0.37570 to 0.52630, saving model to weights1.hdf5\n",
            "Epoch 5/50\n",
            "37376/50000 [=====================>........] - ETA: 1:11 - loss: 1.0225 - acc: 0.6316"
          ],
          "name": "stdout"
        },
        {
          "output_type": "stream",
          "text": [
            "50000/50000 [==============================] - 301s 6ms/step - loss: 1.0142 - acc: 0.6345 - val_loss: 2.4284 - val_acc: 0.4756\n",
            "\n",
            "Epoch 00005: val_acc did not improve from 0.52630\n",
            "Epoch 6/50\n",
            "42624/50000 [========================>.....] - ETA: 41s - loss: 0.9633 - acc: 0.6556"
          ],
          "name": "stdout"
        },
        {
          "output_type": "stream",
          "text": [
            "50000/50000 [==============================] - 300s 6ms/step - loss: 0.9615 - acc: 0.6564 - val_loss: 2.4012 - val_acc: 0.4896\n",
            "\n",
            "Epoch 00006: val_acc did not improve from 0.52630\n",
            "Epoch 7/50\n",
            "44288/50000 [=========================>....] - ETA: 32s - loss: 0.9170 - acc: 0.6740"
          ],
          "name": "stdout"
        },
        {
          "output_type": "stream",
          "text": [
            "50000/50000 [==============================] - 300s 6ms/step - loss: 0.9168 - acc: 0.6738 - val_loss: 2.6663 - val_acc: 0.4673\n",
            "\n",
            "Epoch 00007: val_acc did not improve from 0.52630\n",
            "Epoch 8/50\n",
            "44800/50000 [=========================>....] - ETA: 29s - loss: 0.8839 - acc: 0.6854"
          ],
          "name": "stdout"
        },
        {
          "output_type": "stream",
          "text": [
            "50000/50000 [==============================] - 301s 6ms/step - loss: 0.8799 - acc: 0.6868 - val_loss: 1.8359 - val_acc: 0.5784\n",
            "\n",
            "Epoch 00008: val_acc improved from 0.52630 to 0.57840, saving model to weights1.hdf5\n",
            "Epoch 9/50\n",
            "39680/50000 [======================>.......] - ETA: 57s - loss: 0.8472 - acc: 0.6979"
          ],
          "name": "stdout"
        },
        {
          "output_type": "stream",
          "text": [
            "50000/50000 [==============================] - 300s 6ms/step - loss: 0.8481 - acc: 0.6978 - val_loss: 2.3783 - val_acc: 0.5220\n",
            "\n",
            "Epoch 00009: val_acc did not improve from 0.57840\n",
            "Epoch 10/50\n",
            "43136/50000 [========================>.....] - ETA: 38s - loss: 0.8178 - acc: 0.7090"
          ],
          "name": "stdout"
        },
        {
          "output_type": "stream",
          "text": [
            "50000/50000 [==============================] - 300s 6ms/step - loss: 0.8184 - acc: 0.7086 - val_loss: 2.1362 - val_acc: 0.5387\n",
            "\n",
            "Epoch 00010: val_acc did not improve from 0.57840\n",
            "Epoch 11/50\n",
            "44288/50000 [=========================>....] - ETA: 32s - loss: 0.7917 - acc: 0.7176"
          ],
          "name": "stdout"
        },
        {
          "output_type": "stream",
          "text": [
            "50000/50000 [==============================] - 300s 6ms/step - loss: 0.7914 - acc: 0.7185 - val_loss: 2.3896 - val_acc: 0.5363\n",
            "\n",
            "Epoch 00011: val_acc did not improve from 0.57840\n",
            "Epoch 12/50\n",
            "44544/50000 [=========================>....] - ETA: 30s - loss: 0.7743 - acc: 0.7268"
          ],
          "name": "stdout"
        },
        {
          "output_type": "stream",
          "text": [
            "50000/50000 [==============================] - 299s 6ms/step - loss: 0.7741 - acc: 0.7264 - val_loss: 2.9718 - val_acc: 0.4360\n",
            "\n",
            "Epoch 00012: val_acc did not improve from 0.57840\n",
            "Epoch 13/50\n",
            "44672/50000 [=========================>....] - ETA: 29s - loss: 0.7453 - acc: 0.7338"
          ],
          "name": "stdout"
        },
        {
          "output_type": "stream",
          "text": [
            "50000/50000 [==============================] - 300s 6ms/step - loss: 0.7456 - acc: 0.7340 - val_loss: 1.7803 - val_acc: 0.5967\n",
            "\n",
            "Epoch 00013: val_acc improved from 0.57840 to 0.59670, saving model to weights1.hdf5\n",
            "Epoch 14/50\n",
            "39552/50000 [======================>.......] - ETA: 58s - loss: 0.7285 - acc: 0.7417"
          ],
          "name": "stdout"
        },
        {
          "output_type": "stream",
          "text": [
            "50000/50000 [==============================] - 300s 6ms/step - loss: 0.7286 - acc: 0.7422 - val_loss: 1.3439 - val_acc: 0.6494\n",
            "\n",
            "Epoch 00014: val_acc improved from 0.59670 to 0.64940, saving model to weights1.hdf5\n",
            "Epoch 15/50\n",
            "38144/50000 [=====================>........] - ETA: 1:06 - loss: 0.7074 - acc: 0.7524"
          ],
          "name": "stdout"
        },
        {
          "output_type": "stream",
          "text": [
            "50000/50000 [==============================] - 300s 6ms/step - loss: 0.7078 - acc: 0.7522 - val_loss: 1.7988 - val_acc: 0.5714\n",
            "\n",
            "Epoch 00015: val_acc did not improve from 0.64940\n",
            "Epoch 16/50\n",
            "42752/50000 [========================>.....] - ETA: 40s - loss: 0.6944 - acc: 0.7536"
          ],
          "name": "stdout"
        },
        {
          "output_type": "stream",
          "text": [
            "50000/50000 [==============================] - 300s 6ms/step - loss: 0.6938 - acc: 0.7539 - val_loss: 2.2506 - val_acc: 0.5659\n",
            "\n",
            "Epoch 00016: val_acc did not improve from 0.64940\n",
            "Epoch 17/50\n",
            "44160/50000 [=========================>....] - ETA: 32s - loss: 0.6796 - acc: 0.7600"
          ],
          "name": "stdout"
        },
        {
          "output_type": "stream",
          "text": [
            "50000/50000 [==============================] - 298s 6ms/step - loss: 0.6772 - acc: 0.7608 - val_loss: 2.2637 - val_acc: 0.5702\n",
            "\n",
            "Epoch 00017: val_acc did not improve from 0.64940\n",
            "Epoch 18/50\n",
            "44544/50000 [=========================>....] - ETA: 30s - loss: 0.6629 - acc: 0.7660"
          ],
          "name": "stdout"
        },
        {
          "output_type": "stream",
          "text": [
            "50000/50000 [==============================] - 299s 6ms/step - loss: 0.6599 - acc: 0.7671 - val_loss: 3.2172 - val_acc: 0.4551\n",
            "\n",
            "Epoch 00018: val_acc did not improve from 0.64940\n",
            "Epoch 19/50\n",
            "44672/50000 [=========================>....] - ETA: 29s - loss: 0.6480 - acc: 0.7710"
          ],
          "name": "stdout"
        },
        {
          "output_type": "stream",
          "text": [
            "50000/50000 [==============================] - 300s 6ms/step - loss: 0.6462 - acc: 0.7720 - val_loss: 2.7875 - val_acc: 0.5263\n",
            "\n",
            "Epoch 00019: val_acc did not improve from 0.64940\n",
            "Epoch 20/50\n",
            "44672/50000 [=========================>....] - ETA: 29s - loss: 0.6312 - acc: 0.7768"
          ],
          "name": "stdout"
        },
        {
          "output_type": "stream",
          "text": [
            "50000/50000 [==============================] - 300s 6ms/step - loss: 0.6306 - acc: 0.7773 - val_loss: 1.6207 - val_acc: 0.6372\n",
            "\n",
            "Epoch 00020: val_acc did not improve from 0.64940\n",
            "Epoch 21/50\n",
            "44672/50000 [=========================>....] - ETA: 29s - loss: 0.6173 - acc: 0.7790"
          ],
          "name": "stdout"
        },
        {
          "output_type": "stream",
          "text": [
            "50000/50000 [==============================] - 300s 6ms/step - loss: 0.6178 - acc: 0.7793 - val_loss: 2.0841 - val_acc: 0.5904\n",
            "\n",
            "Epoch 00021: val_acc did not improve from 0.64940\n",
            "Epoch 22/50\n",
            "44672/50000 [=========================>....] - ETA: 29s - loss: 0.6074 - acc: 0.7853"
          ],
          "name": "stdout"
        },
        {
          "output_type": "stream",
          "text": [
            "50000/50000 [==============================] - 300s 6ms/step - loss: 0.6054 - acc: 0.7858 - val_loss: 1.7969 - val_acc: 0.6317\n",
            "\n",
            "Epoch 00022: val_acc did not improve from 0.64940\n",
            "Epoch 23/50\n",
            "44672/50000 [=========================>....] - ETA: 29s - loss: 0.5946 - acc: 0.7918"
          ],
          "name": "stdout"
        },
        {
          "output_type": "stream",
          "text": [
            "50000/50000 [==============================] - 300s 6ms/step - loss: 0.5944 - acc: 0.7923 - val_loss: 1.7850 - val_acc: 0.6173\n",
            "\n",
            "Epoch 00023: val_acc did not improve from 0.64940\n",
            "Epoch 24/50\n",
            "44672/50000 [=========================>....] - ETA: 29s - loss: 0.5861 - acc: 0.7932"
          ],
          "name": "stdout"
        },
        {
          "output_type": "stream",
          "text": [
            "50000/50000 [==============================] - 300s 6ms/step - loss: 0.5842 - acc: 0.7935 - val_loss: 1.9345 - val_acc: 0.6044\n",
            "\n",
            "Epoch 00024: val_acc did not improve from 0.64940\n",
            "Epoch 25/50\n",
            "44672/50000 [=========================>....] - ETA: 29s - loss: 0.5662 - acc: 0.8014"
          ],
          "name": "stdout"
        },
        {
          "output_type": "stream",
          "text": [
            "50000/50000 [==============================] - 300s 6ms/step - loss: 0.5700 - acc: 0.7996 - val_loss: 1.2054 - val_acc: 0.7048\n",
            "\n",
            "Epoch 00025: val_acc improved from 0.64940 to 0.70480, saving model to weights1.hdf5\n",
            "Epoch 26/50\n",
            "39552/50000 [======================>.......] - ETA: 58s - loss: 0.5616 - acc: 0.8055"
          ],
          "name": "stdout"
        },
        {
          "output_type": "stream",
          "text": [
            "50000/50000 [==============================] - 300s 6ms/step - loss: 0.5607 - acc: 0.8045 - val_loss: 1.8878 - val_acc: 0.6239\n",
            "\n",
            "Epoch 00026: val_acc did not improve from 0.70480\n",
            "Epoch 27/50\n",
            "43136/50000 [========================>.....] - ETA: 38s - loss: 0.5479 - acc: 0.8091"
          ],
          "name": "stdout"
        },
        {
          "output_type": "stream",
          "text": [
            "50000/50000 [==============================] - 300s 6ms/step - loss: 0.5476 - acc: 0.8093 - val_loss: 0.9592 - val_acc: 0.7585\n",
            "\n",
            "Epoch 00027: val_acc improved from 0.70480 to 0.75850, saving model to weights1.hdf5\n",
            "Epoch 28/50\n",
            "39168/50000 [======================>.......] - ETA: 1:00 - loss: 0.5431 - acc: 0.8105"
          ],
          "name": "stdout"
        },
        {
          "output_type": "stream",
          "text": [
            "50000/50000 [==============================] - 300s 6ms/step - loss: 0.5445 - acc: 0.8093 - val_loss: 2.1600 - val_acc: 0.6023\n",
            "\n",
            "Epoch 00028: val_acc did not improve from 0.75850\n",
            "Epoch 29/50\n",
            "43008/50000 [========================>.....] - ETA: 39s - loss: 0.5327 - acc: 0.8156"
          ],
          "name": "stdout"
        },
        {
          "output_type": "stream",
          "text": [
            "50000/50000 [==============================] - 300s 6ms/step - loss: 0.5340 - acc: 0.8153 - val_loss: 1.3633 - val_acc: 0.6849\n",
            "\n",
            "Epoch 00029: val_acc did not improve from 0.75850\n",
            "Epoch 30/50\n",
            "44160/50000 [=========================>....] - ETA: 32s - loss: 0.5255 - acc: 0.8168"
          ],
          "name": "stdout"
        },
        {
          "output_type": "stream",
          "text": [
            "50000/50000 [==============================] - 300s 6ms/step - loss: 0.5267 - acc: 0.8164 - val_loss: 1.7513 - val_acc: 0.6715\n",
            "\n",
            "Epoch 00030: val_acc did not improve from 0.75850\n",
            "Epoch 31/50\n",
            "44544/50000 [=========================>....] - ETA: 30s - loss: 0.5174 - acc: 0.8201"
          ],
          "name": "stdout"
        },
        {
          "output_type": "stream",
          "text": [
            "50000/50000 [==============================] - 300s 6ms/step - loss: 0.5174 - acc: 0.8200 - val_loss: 1.1939 - val_acc: 0.7319\n",
            "\n",
            "Epoch 00031: val_acc did not improve from 0.75850\n",
            "Epoch 32/50\n",
            "44672/50000 [=========================>....] - ETA: 29s - loss: 0.5108 - acc: 0.8210"
          ],
          "name": "stdout"
        },
        {
          "output_type": "stream",
          "text": [
            "50000/50000 [==============================] - 299s 6ms/step - loss: 0.5119 - acc: 0.8205 - val_loss: 1.6766 - val_acc: 0.6589\n",
            "\n",
            "Epoch 00032: val_acc did not improve from 0.75850\n",
            "Epoch 33/50\n",
            "44672/50000 [=========================>....] - ETA: 29s - loss: 0.5017 - acc: 0.8237"
          ],
          "name": "stdout"
        },
        {
          "output_type": "stream",
          "text": [
            "50000/50000 [==============================] - 299s 6ms/step - loss: 0.5020 - acc: 0.8241 - val_loss: 2.5446 - val_acc: 0.6024\n",
            "\n",
            "Epoch 00033: val_acc did not improve from 0.75850\n",
            "Epoch 34/50\n",
            "44672/50000 [=========================>....] - ETA: 29s - loss: 0.4983 - acc: 0.8266"
          ],
          "name": "stdout"
        },
        {
          "output_type": "stream",
          "text": [
            "50000/50000 [==============================] - 300s 6ms/step - loss: 0.4987 - acc: 0.8265 - val_loss: 1.3287 - val_acc: 0.7105\n",
            "\n",
            "Epoch 00034: val_acc did not improve from 0.75850\n",
            "Epoch 35/50\n",
            "44672/50000 [=========================>....] - ETA: 29s - loss: 0.4867 - acc: 0.8299"
          ],
          "name": "stdout"
        },
        {
          "output_type": "stream",
          "text": [
            "50000/50000 [==============================] - 300s 6ms/step - loss: 0.4895 - acc: 0.8294 - val_loss: 2.3531 - val_acc: 0.6165\n",
            "\n",
            "Epoch 00035: val_acc did not improve from 0.75850\n",
            "Epoch 36/50\n",
            "44672/50000 [=========================>....] - ETA: 29s - loss: 0.4845 - acc: 0.8304"
          ],
          "name": "stdout"
        },
        {
          "output_type": "stream",
          "text": [
            "50000/50000 [==============================] - 300s 6ms/step - loss: 0.4849 - acc: 0.8300 - val_loss: 1.6123 - val_acc: 0.6837\n",
            "\n",
            "Epoch 00036: val_acc did not improve from 0.75850\n",
            "Epoch 37/50\n",
            "44672/50000 [=========================>....] - ETA: 29s - loss: 0.4814 - acc: 0.8307"
          ],
          "name": "stdout"
        },
        {
          "output_type": "stream",
          "text": [
            "50000/50000 [==============================] - 300s 6ms/step - loss: 0.4806 - acc: 0.8309 - val_loss: 1.6464 - val_acc: 0.6666\n",
            "\n",
            "Epoch 00037: val_acc did not improve from 0.75850\n",
            "Epoch 38/50\n",
            "44672/50000 [=========================>....] - ETA: 29s - loss: 0.4724 - acc: 0.8345"
          ],
          "name": "stdout"
        },
        {
          "output_type": "stream",
          "text": [
            "50000/50000 [==============================] - 300s 6ms/step - loss: 0.4741 - acc: 0.8344 - val_loss: 2.6311 - val_acc: 0.5726\n",
            "\n",
            "Epoch 00038: val_acc did not improve from 0.75850\n",
            "Epoch 39/50\n",
            "44672/50000 [=========================>....] - ETA: 29s - loss: 0.4691 - acc: 0.8354"
          ],
          "name": "stdout"
        },
        {
          "output_type": "stream",
          "text": [
            "50000/50000 [==============================] - 299s 6ms/step - loss: 0.4718 - acc: 0.8344 - val_loss: 2.2315 - val_acc: 0.5979\n",
            "\n",
            "Epoch 00039: val_acc did not improve from 0.75850\n",
            "Epoch 40/50\n",
            "44672/50000 [=========================>....] - ETA: 29s - loss: 0.4660 - acc: 0.8351"
          ],
          "name": "stdout"
        },
        {
          "output_type": "stream",
          "text": [
            "50000/50000 [==============================] - 300s 6ms/step - loss: 0.4662 - acc: 0.8353 - val_loss: 1.4490 - val_acc: 0.7100\n",
            "\n",
            "Epoch 00040: val_acc did not improve from 0.75850\n",
            "Epoch 41/50\n",
            "44672/50000 [=========================>....] - ETA: 29s - loss: 0.4625 - acc: 0.8395"
          ],
          "name": "stdout"
        },
        {
          "output_type": "stream",
          "text": [
            "50000/50000 [==============================] - 299s 6ms/step - loss: 0.4621 - acc: 0.8394 - val_loss: 1.6835 - val_acc: 0.6647\n",
            "\n",
            "Epoch 00041: val_acc did not improve from 0.75850\n",
            "Epoch 42/50\n",
            "44672/50000 [=========================>....] - ETA: 29s - loss: 0.4491 - acc: 0.8435"
          ],
          "name": "stdout"
        },
        {
          "output_type": "stream",
          "text": [
            "50000/50000 [==============================] - 299s 6ms/step - loss: 0.4503 - acc: 0.8428 - val_loss: 1.2542 - val_acc: 0.7346\n",
            "\n",
            "Epoch 00042: val_acc did not improve from 0.75850\n",
            "Epoch 43/50\n",
            "44672/50000 [=========================>....] - ETA: 29s - loss: 0.4487 - acc: 0.8427"
          ],
          "name": "stdout"
        },
        {
          "output_type": "stream",
          "text": [
            "50000/50000 [==============================] - 299s 6ms/step - loss: 0.4469 - acc: 0.8433 - val_loss: 1.8747 - val_acc: 0.6469\n",
            "\n",
            "Epoch 00043: val_acc did not improve from 0.75850\n",
            "Epoch 44/50\n",
            "44672/50000 [=========================>....] - ETA: 29s - loss: 0.4430 - acc: 0.8447"
          ],
          "name": "stdout"
        },
        {
          "output_type": "stream",
          "text": [
            "50000/50000 [==============================] - 299s 6ms/step - loss: 0.4448 - acc: 0.8441 - val_loss: 1.3256 - val_acc: 0.7216\n",
            "\n",
            "Epoch 00044: val_acc did not improve from 0.75850\n",
            "Epoch 45/50\n",
            "44672/50000 [=========================>....] - ETA: 29s - loss: 0.4360 - acc: 0.8480"
          ],
          "name": "stdout"
        },
        {
          "output_type": "stream",
          "text": [
            "50000/50000 [==============================] - 299s 6ms/step - loss: 0.4379 - acc: 0.8475 - val_loss: 1.5085 - val_acc: 0.7109\n",
            "\n",
            "Epoch 00045: val_acc did not improve from 0.75850\n",
            "Epoch 46/50\n",
            "44672/50000 [=========================>....] - ETA: 29s - loss: 0.4351 - acc: 0.8486"
          ],
          "name": "stdout"
        },
        {
          "output_type": "stream",
          "text": [
            "50000/50000 [==============================] - 300s 6ms/step - loss: 0.4340 - acc: 0.8493 - val_loss: 1.6531 - val_acc: 0.6972\n",
            "\n",
            "Epoch 00046: val_acc did not improve from 0.75850\n",
            "Epoch 47/50\n",
            "44672/50000 [=========================>....] - ETA: 29s - loss: 0.4310 - acc: 0.8487"
          ],
          "name": "stdout"
        },
        {
          "output_type": "stream",
          "text": [
            "50000/50000 [==============================] - 299s 6ms/step - loss: 0.4310 - acc: 0.8487 - val_loss: 2.0226 - val_acc: 0.6657\n",
            "\n",
            "Epoch 00047: val_acc did not improve from 0.75850\n",
            "Epoch 48/50\n",
            "44672/50000 [=========================>....] - ETA: 29s - loss: 0.4247 - acc: 0.8514"
          ],
          "name": "stdout"
        },
        {
          "output_type": "stream",
          "text": [
            "50000/50000 [==============================] - 299s 6ms/step - loss: 0.4247 - acc: 0.8519 - val_loss: 1.1539 - val_acc: 0.7459\n",
            "\n",
            "Epoch 00048: val_acc did not improve from 0.75850\n",
            "Epoch 49/50\n",
            "44672/50000 [=========================>....] - ETA: 29s - loss: 0.4251 - acc: 0.8512"
          ],
          "name": "stdout"
        },
        {
          "output_type": "stream",
          "text": [
            "50000/50000 [==============================] - 298s 6ms/step - loss: 0.4241 - acc: 0.8521 - val_loss: 2.6300 - val_acc: 0.5857\n",
            "\n",
            "Epoch 00049: val_acc did not improve from 0.75850\n",
            "Epoch 50/50\n",
            "44672/50000 [=========================>....] - ETA: 29s - loss: 0.4188 - acc: 0.8531"
          ],
          "name": "stdout"
        },
        {
          "output_type": "stream",
          "text": [
            "50000/50000 [==============================] - 299s 6ms/step - loss: 0.4185 - acc: 0.8529 - val_loss: 1.4537 - val_acc: 0.7167\n",
            "\n",
            "Epoch 00050: val_acc did not improve from 0.75850\n"
          ],
          "name": "stdout"
        },
        {
          "output_type": "execute_result",
          "data": {
            "text/plain": [
              "<keras.callbacks.History at 0x7fdef22dd7b8>"
            ]
          },
          "metadata": {
            "tags": []
          },
          "execution_count": 24
        }
      ]
    },
    {
      "metadata": {
        "id": "Lydy_R0yJPEa",
        "colab_type": "code",
        "colab": {
          "autoexec": {
            "startup": false,
            "wait_interval": 0
          }
        }
      },
      "cell_type": "code",
      "source": [
        "model.load_weights(\"weights1.hdf5\")"
      ],
      "execution_count": 0,
      "outputs": []
    },
    {
      "metadata": {
        "id": "ZcWydmIVhZGr",
        "colab_type": "code",
        "colab": {
          "autoexec": {
            "startup": false,
            "wait_interval": 0
          },
          "base_uri": "https://localhost:8080/",
          "height": 71
        },
        "outputId": "5f22edf2-a662-48e3-d9a3-5bef56a66d89",
        "executionInfo": {
          "status": "ok",
          "timestamp": 1526420759664,
          "user_tz": -330,
          "elapsed": 27340,
          "user": {
            "displayName": "Ddev Ddev",
            "photoUrl": "https://lh3.googleusercontent.com/a/default-user=s128",
            "userId": "114475786811527419051"
          }
        }
      },
      "cell_type": "code",
      "source": [
        "# Test the model\n",
        "score = model.evaluate(x_test, y_test, verbose=1)\n",
        "print('Test loss:', score[0])\n",
        "print('Test accuracy:', score[1])"
      ],
      "execution_count": 26,
      "outputs": [
        {
          "output_type": "stream",
          "text": [
            "10000/10000 [==============================] - 27s 3ms/step\n",
            "Test loss: 0.9592307312965394\n",
            "Test accuracy: 0.7585\n"
          ],
          "name": "stdout"
        }
      ]
    },
    {
      "metadata": {
        "id": "UE3lF6EH1r_L",
        "colab_type": "code",
        "colab": {
          "autoexec": {
            "startup": false,
            "wait_interval": 0
          },
          "base_uri": "https://localhost:8080/",
          "height": 35
        },
        "outputId": "72336702-bb0f-466d-8d60-eae00ba54a4a",
        "executionInfo": {
          "status": "ok",
          "timestamp": 1526420761124,
          "user_tz": -330,
          "elapsed": 1400,
          "user": {
            "displayName": "Ddev Ddev",
            "photoUrl": "https://lh3.googleusercontent.com/a/default-user=s128",
            "userId": "114475786811527419051"
          }
        }
      },
      "cell_type": "code",
      "source": [
        "# Save the trained weights in to .h5 format\n",
        "model.save_weights(\"DNST_model.h5\")\n",
        "print(\"Saved model to disk\")"
      ],
      "execution_count": 27,
      "outputs": [
        {
          "output_type": "stream",
          "text": [
            "Saved model to disk\n"
          ],
          "name": "stdout"
        }
      ]
    },
    {
      "metadata": {
        "id": "ai-yZ2ED5AK1",
        "colab_type": "code",
        "colab": {
          "autoexec": {
            "startup": false,
            "wait_interval": 0
          }
        }
      },
      "cell_type": "code",
      "source": [
        "from google.colab import files\n",
        "\n",
        "files.download('DNST_model.h5')"
      ],
      "execution_count": 0,
      "outputs": []
    },
    {
      "metadata": {
        "id": "Og56VCRh5j8V",
        "colab_type": "code",
        "colab": {
          "autoexec": {
            "startup": false,
            "wait_interval": 0
          }
        }
      },
      "cell_type": "code",
      "source": [
        ""
      ],
      "execution_count": 0,
      "outputs": []
    }
  ]
}